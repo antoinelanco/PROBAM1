{
 "cells": [
  {
   "cell_type": "markdown",
   "metadata": {
    "slideshow": {
     "slide_type": "-"
    }
   },
   "source": [
    "## Exercice 1 (8 pts)\n",
    "Expliciter et expliquer l'hypothèse faite lors de la construction du\n",
    "classifieur. En particulier, chaque pixel est considéré comme une variable aléatoire et donc une image comme la réalisation d'un vecteur aléatoire. Quelle hypothèse est faite sur la dépendance entre les pixels ? Quel est l'impact sur la matrice de covariance ? \n",
    "    - Proposer une mesure permettant d'évaluer cette hypothèse.\n",
    "    - Évaluons cette hypothèse en considérant comme voisinage pour chaque pixel, son voisin de gauche et de droite.\n",
    "    - Si nous faisions l'hypothèse qu'un pixel ne dépend que de ses voisins immédiats de gauche et de droite, écrire les      paramètres à estimer et comment les estimer.\n",
    "    - BONUS: Coder et expérimenter ce modèle"
   ]
  },
  {
   "cell_type": "code",
   "execution_count": 2,
   "metadata": {},
   "outputs": [
    {
     "name": "stdout",
     "output_type": "stream",
     "text": [
      "50000\n",
      "10000\n"
     ]
    }
   ],
   "source": [
    "import pickle, gzip\n",
    "import numpy as np\n",
    "# Load the dataset\n",
    "f = gzip.open('./mnist.pkl.gz', 'rb')\n",
    "u = pickle._Unpickler(f)\n",
    "u.encoding = 'latin1'\n",
    "p = u.load()\n",
    "train_set, valid_set, test_set = p\n",
    "\n",
    "######################################\n",
    "# exemple de manipulation \n",
    "im = train_set[0][0] # the first image\n",
    "label = train_set[1][0] # its label\n",
    "print(len(train_set[0]))\n",
    "print(len(test_set[0]))"
   ]
  }
 ],
 "metadata": {
  "kernelspec": {
   "display_name": "Python 3",
   "language": "python",
   "name": "python3"
  },
  "language_info": {
   "codemirror_mode": {
    "name": "ipython",
    "version": 3
   },
   "file_extension": ".py",
   "mimetype": "text/x-python",
   "name": "python",
   "nbconvert_exporter": "python",
   "pygments_lexer": "ipython3",
   "version": "3.4.3"
  }
 },
 "nbformat": 4,
 "nbformat_minor": 1
}
